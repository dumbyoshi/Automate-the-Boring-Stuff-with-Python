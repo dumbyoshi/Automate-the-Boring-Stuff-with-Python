{
  "nbformat": 4,
  "nbformat_minor": 0,
  "metadata": {
    "colab": {
      "provenance": []
    },
    "kernelspec": {
      "name": "python3",
      "display_name": "Python 3"
    },
    "language_info": {
      "name": "python"
    }
  },
  "cells": [
    {
      "cell_type": "code",
      "execution_count": 3,
      "metadata": {
        "colab": {
          "base_uri": "https://localhost:8080/"
        },
        "id": "pzhAlKDoBLtI",
        "outputId": "1e217b02-83b9-49a7-deb5-bb6dc5ef47ba"
      },
      "outputs": [
        {
          "output_type": "stream",
          "name": "stdout",
          "text": [
            "Hello, what is your name?\n",
            "Krish\n",
            "Oh Hi Krish I am thinking of a number between 1 and 10\n",
            "Take a guess\n",
            "8\n",
            "Your guess is too high\n",
            "Take a guess\n",
            "1\n",
            "Your guess is too low\n",
            "Take a guess\n",
            "4\n",
            "Your guess is too low\n",
            "Nope. The number I was thinking of was 7\n",
            "Thanks for playing! Bye Bye Krish\n"
          ]
        }
      ],
      "source": [
        "#guessing the number python program\n",
        "\n",
        "import random\n",
        "\n",
        "print('Hello, what is your name?')\n",
        "name = input()\n",
        "print(\"Oh Hi \" + name + \" I am thinking of a number between 1 and 10\")\n",
        "secretnum = random.randint(1, 10)\n",
        "\n",
        "for guesstaken in range(1,4):\n",
        "   print('Take a guess')\n",
        "   guess = int(input())\n",
        "\n",
        "   if guess < secretnum:\n",
        "      print('Your guess is too low')\n",
        "   elif guess > secretnum:\n",
        "    print('Your guess is too high')\n",
        "   else:\n",
        "       break\n",
        "\n",
        "if guess == secretnum:\n",
        "   print('Good job ' + name + ' you guessed my number in ' + str(guesstaken) + ' guesses!')\n",
        "else:\n",
        "   print('Nope. The number I was thinking of was ' + str(secretnum))\n",
        "\n",
        "print('Thanks for playing! Bye Bye '+ name)"
      ]
    }
  ]
}